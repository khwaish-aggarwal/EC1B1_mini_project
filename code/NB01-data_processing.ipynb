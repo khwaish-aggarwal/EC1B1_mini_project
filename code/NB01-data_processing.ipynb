{
 "cells": [
  {
   "cell_type": "code",
   "execution_count": 1,
   "metadata": {},
   "outputs": [],
   "source": [
    "import io\n",
    "import os\n",
    "import requests\n",
    "import pandas as pd\n",
    "import openpyxl "
   ]
  },
  {
   "cell_type": "code",
   "execution_count": 2,
   "metadata": {},
   "outputs": [
    {
     "name": "stdout",
     "output_type": "stream",
     "text": [
      "Sheet names in the Excel file:\n",
      "0: Info\n",
      "1: Legend\n",
      "2: rgdpna\n",
      "3: rnna\n",
      "4: emp\n",
      "5: hc\n",
      "6: pop\n",
      "7: labsh\n",
      "\n",
      "Combined and Cleaned DataFrame:\n",
      "  countrycode country_2 currency_unit_2  year        rgdpna country_3  \\\n",
      "0         AGO    Angola          Kwanza  1970  54237.054688    Angola   \n",
      "1         AGO    Angola          Kwanza  1971  57491.277344    Angola   \n",
      "2         AGO    Angola          Kwanza  1972  57606.261719    Angola   \n",
      "3         AGO    Angola          Kwanza  1973  62272.367188    Angola   \n",
      "4         AGO    Angola          Kwanza  1974  64202.808594    Angola   \n",
      "\n",
      "  currency_unit_3          rnna country_4 currency_unit_4       emp country_5  \\\n",
      "0          Kwanza  295517.62500    Angola          Kwanza  3.666207    Angola   \n",
      "1          Kwanza  314195.09375    Angola          Kwanza  3.742484    Angola   \n",
      "2          Kwanza  332435.84375    Angola          Kwanza  3.853271    Angola   \n",
      "3          Kwanza  352647.90625    Angola          Kwanza  3.987807    Angola   \n",
      "4          Kwanza  373267.71875    Angola          Kwanza  4.130696    Angola   \n",
      "\n",
      "  currency_unit_5        hc country_6 currency_unit_6       pop country_7  \\\n",
      "0          Kwanza  1.015686    Angola          Kwanza  5.890365    Angola   \n",
      "1          Kwanza  1.018196    Angola          Kwanza  6.040777    Angola   \n",
      "2          Kwanza  1.020712    Angola          Kwanza  6.248552    Angola   \n",
      "3          Kwanza  1.023234    Angola          Kwanza  6.496962    Angola   \n",
      "4          Kwanza  1.025762    Angola          Kwanza  6.761380    Angola   \n",
      "\n",
      "  currency_unit_7     labsh  \n",
      "0          Kwanza  0.284385  \n",
      "1          Kwanza  0.284385  \n",
      "2          Kwanza  0.284385  \n",
      "3          Kwanza  0.284385  \n",
      "4          Kwanza  0.284385  \n"
     ]
    }
   ],
   "source": [
    "file_path = '../data/penn_world_table.xlsx'\n",
    "\n",
    "# Load workbook and get sheet names\n",
    "workbook = openpyxl.load_workbook(file_path)\n",
    "sheet_names = workbook.sheetnames\n",
    "\n",
    "# Display sheet names for reference\n",
    "print(\"Sheet names in the Excel file:\")\n",
    "for i, sheet_name in enumerate(sheet_names):\n",
    "    print(f\"{i}: {sheet_name}\")\n",
    "\n",
    "# Read all sheets into DataFrames\n",
    "dfs = [pd.read_excel(file_path, engine=\"openpyxl\", sheet_name=sheet_name) for sheet_name in sheet_names]\n",
    "\n",
    "# ✅ Find the first DataFrame with the required columns\n",
    "common_columns = ['countrycode', 'year']\n",
    "df_combined = None\n",
    "\n",
    "for df in dfs:\n",
    "    df.columns = df.columns.str.strip()  # Strip whitespace from column names\n",
    "    if {'countrycode', 'year'}.issubset(df.columns):\n",
    "        df_combined = df\n",
    "        break\n",
    "\n",
    "# ✅ If no DataFrame has the required columns, raise an error\n",
    "if df_combined is None:\n",
    "    raise ValueError(\"None of the sheets contain the required columns: 'countrycode' and 'year'.\")\n",
    "\n",
    "# ✅ Merge the remaining DataFrames if they have the required columns\n",
    "for i, df in enumerate(dfs):\n",
    "    if df is not df_combined and {'countrycode', 'year'}.issubset(df.columns):\n",
    "        df_combined = pd.merge(df_combined, df, on=common_columns, how='left', \n",
    "                               suffixes=(f'_{i-1}', f'_{i}'))\n",
    "\n",
    "# ✅ Basic data cleaning\n",
    "df_combined = df_combined.dropna()  # Drop rows with missing values\n",
    "df_combined.columns = df_combined.columns.str.strip()  # Strip whitespace from column names\n",
    "df_combined = df_combined.sort_values(by=['countrycode', 'year']).reset_index(drop=True)  # Sort and reset index\n",
    "\n",
    "# ✅ Display final DataFrame\n",
    "print(\"\\nCombined and Cleaned DataFrame:\")\n",
    "print(df_combined.head())"
   ]
  },
  {
   "cell_type": "code",
   "execution_count": 4,
   "metadata": {},
   "outputs": [],
   "source": [
    "# Save DataFrame as Pickle file\n",
    "df_combined.to_pickle('../data/df_combined.pkl')\n"
   ]
  }
 ],
 "metadata": {
  "kernelspec": {
   "display_name": "base",
   "language": "python",
   "name": "python3"
  },
  "language_info": {
   "codemirror_mode": {
    "name": "ipython",
    "version": 3
   },
   "file_extension": ".py",
   "mimetype": "text/x-python",
   "name": "python",
   "nbconvert_exporter": "python",
   "pygments_lexer": "ipython3",
   "version": "3.12.7"
  }
 },
 "nbformat": 4,
 "nbformat_minor": 2
}
