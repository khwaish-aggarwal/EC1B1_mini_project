{
 "cells": [
  {
   "cell_type": "code",
   "execution_count": 14,
   "metadata": {},
   "outputs": [],
   "source": [
    "import io\n",
    "import pandas as pd"
   ]
  },
  {
   "cell_type": "code",
   "execution_count": 15,
   "metadata": {},
   "outputs": [],
   "source": [
    "df_combined = pd.read_pickle('../data/df_combined.pkl')"
   ]
  },
  {
   "cell_type": "code",
   "execution_count": 16,
   "metadata": {},
   "outputs": [
    {
     "name": "stdout",
     "output_type": "stream",
     "text": [
      "\n",
      "Final DataFrame with Separate 'countrycode' and 'country' Columns:\n",
      "  countrycode currency_unit_2  year        rgdpna currency_unit_3  \\\n",
      "0         AGO          Kwanza  1970  54237.054688          Kwanza   \n",
      "1         AGO          Kwanza  1971  57491.277344          Kwanza   \n",
      "2         AGO          Kwanza  1972  57606.261719          Kwanza   \n",
      "3         AGO          Kwanza  1973  62272.367188          Kwanza   \n",
      "4         AGO          Kwanza  1974  64202.808594          Kwanza   \n",
      "\n",
      "           rnna currency_unit_4       emp currency_unit_5        hc  \\\n",
      "0  295517.62500          Kwanza  3.666207          Kwanza  1.015686   \n",
      "1  314195.09375          Kwanza  3.742484          Kwanza  1.018196   \n",
      "2  332435.84375          Kwanza  3.853271          Kwanza  1.020712   \n",
      "3  352647.90625          Kwanza  3.987807          Kwanza  1.023234   \n",
      "4  373267.71875          Kwanza  4.130696          Kwanza  1.025762   \n",
      "\n",
      "  currency_unit_6       pop currency_unit_7     labsh country  \n",
      "0          Kwanza  5.890365          Kwanza  0.284385  Angola  \n",
      "1          Kwanza  6.040777          Kwanza  0.284385  Angola  \n",
      "2          Kwanza  6.248552          Kwanza  0.284385  Angola  \n",
      "3          Kwanza  6.496962          Kwanza  0.284385  Angola  \n",
      "4          Kwanza  6.761380          Kwanza  0.284385  Angola  \n"
     ]
    }
   ],
   "source": [
    "# ✅ Combine all 'country' columns into a single 'country' column (excluding 'countrycode')\n",
    "country_columns = [col for col in df_combined.columns if 'country' in col and col != 'countrycode']\n",
    "\n",
    "# ✅ Only proceed if there are multiple country columns\n",
    "if country_columns:\n",
    "    df_combined['country'] = df_combined[country_columns].bfill(axis=1).iloc[:, 0]  # Combine into one column\n",
    "\n",
    "    # ✅ Keep 'countrycode' and the newly created 'country' column, drop duplicates\n",
    "    df_combined = df_combined.drop(columns=[col for col in country_columns if col != 'country'])\n",
    "\n",
    "# ✅ Display final DataFrame\n",
    "print(\"\\nFinal DataFrame with Separate 'countrycode' and 'country' Columns:\")\n",
    "print(df_combined.head())\n"
   ]
  },
  {
   "cell_type": "code",
   "execution_count": 17,
   "metadata": {},
   "outputs": [
    {
     "name": "stdout",
     "output_type": "stream",
     "text": [
      "\n",
      "Combined and Cleaned DataFrame with Single 'currency_unit' Column:\n",
      "  countrycode  year        rgdpna          rnna       emp        hc       pop  \\\n",
      "0         AGO  1970  54237.054688  295517.62500  3.666207  1.015686  5.890365   \n",
      "1         AGO  1971  57491.277344  314195.09375  3.742484  1.018196  6.040777   \n",
      "2         AGO  1972  57606.261719  332435.84375  3.853271  1.020712  6.248552   \n",
      "3         AGO  1973  62272.367188  352647.90625  3.987807  1.023234  6.496962   \n",
      "4         AGO  1974  64202.808594  373267.71875  4.130696  1.025762  6.761380   \n",
      "\n",
      "      labsh country currency_unit  \n",
      "0  0.284385  Angola        Kwanza  \n",
      "1  0.284385  Angola        Kwanza  \n",
      "2  0.284385  Angola        Kwanza  \n",
      "3  0.284385  Angola        Kwanza  \n",
      "4  0.284385  Angola        Kwanza  \n"
     ]
    }
   ],
   "source": [
    "# ✅ Combine all 'currency_unit' columns into a single column\n",
    "currency_columns = [col for col in df_combined.columns if 'currency_unit' in col]\n",
    "df_combined['currency_unit'] = df_combined[currency_columns].bfill(axis=1).iloc[:, 0]\n",
    "df_combined = df_combined.drop(columns=currency_columns)\n",
    "\n",
    "# ✅ Display final DataFrame with a single 'currency_unit' column\n",
    "print(\"\\nCombined and Cleaned DataFrame with Single 'currency_unit' Column:\")\n",
    "print(df_combined.head())\n"
   ]
  },
  {
   "cell_type": "code",
   "execution_count": 18,
   "metadata": {},
   "outputs": [
    {
     "name": "stdout",
     "output_type": "stream",
     "text": [
      "\n",
      "Reordered DataFrame:\n",
      "  country currency_unit countrycode  year        rgdpna          rnna  \\\n",
      "0  Angola        Kwanza         AGO  1970  54237.054688  295517.62500   \n",
      "1  Angola        Kwanza         AGO  1971  57491.277344  314195.09375   \n",
      "2  Angola        Kwanza         AGO  1972  57606.261719  332435.84375   \n",
      "3  Angola        Kwanza         AGO  1973  62272.367188  352647.90625   \n",
      "4  Angola        Kwanza         AGO  1974  64202.808594  373267.71875   \n",
      "\n",
      "        emp        hc       pop     labsh  \n",
      "0  3.666207  1.015686  5.890365  0.284385  \n",
      "1  3.742484  1.018196  6.040777  0.284385  \n",
      "2  3.853271  1.020712  6.248552  0.284385  \n",
      "3  3.987807  1.023234  6.496962  0.284385  \n",
      "4  4.130696  1.025762  6.761380  0.284385  \n"
     ]
    }
   ],
   "source": [
    "# ✅ Reorder DataFrame columns\n",
    "columns_order = ['country', 'currency_unit'] + [col for col in df_combined.columns if col not in ['country', 'currency_unit']]\n",
    "df_combined = df_combined[columns_order]\n",
    "\n",
    "# ✅ Display final DataFrame with reordered columns\n",
    "print(\"\\nReordered DataFrame:\")\n",
    "print(df_combined.head())"
   ]
  },
  {
   "cell_type": "code",
   "execution_count": 19,
   "metadata": {},
   "outputs": [],
   "source": [
    "df_combined = df_combined.drop(columns=['pop', 'labsh'])"
   ]
  },
  {
   "cell_type": "code",
   "execution_count": 20,
   "metadata": {},
   "outputs": [],
   "source": [
    "df_combined = df_combined.rename(columns={'rgdpna': 'Real GDP', 'rnna':'Capital', 'emp':'Labour','hc':'Human Capital'})\n",
    "df_combined = df_combined.drop(columns='countrycode')"
   ]
  },
  {
   "cell_type": "code",
   "execution_count": 21,
   "metadata": {},
   "outputs": [
    {
     "data": {
      "text/html": [
       "<div>\n",
       "<style scoped>\n",
       "    .dataframe tbody tr th:only-of-type {\n",
       "        vertical-align: middle;\n",
       "    }\n",
       "\n",
       "    .dataframe tbody tr th {\n",
       "        vertical-align: top;\n",
       "    }\n",
       "\n",
       "    .dataframe thead th {\n",
       "        text-align: right;\n",
       "    }\n",
       "</style>\n",
       "<table border=\"1\" class=\"dataframe\">\n",
       "  <thead>\n",
       "    <tr style=\"text-align: right;\">\n",
       "      <th></th>\n",
       "      <th>country</th>\n",
       "      <th>currency_unit</th>\n",
       "      <th>year</th>\n",
       "      <th>Real GDP</th>\n",
       "      <th>Capital</th>\n",
       "      <th>Labour</th>\n",
       "      <th>Human Capital</th>\n",
       "    </tr>\n",
       "  </thead>\n",
       "  <tbody>\n",
       "    <tr>\n",
       "      <th>0</th>\n",
       "      <td>Angola</td>\n",
       "      <td>Kwanza</td>\n",
       "      <td>1970</td>\n",
       "      <td>54237.054688</td>\n",
       "      <td>295517.625000</td>\n",
       "      <td>3.666207</td>\n",
       "      <td>1.015686</td>\n",
       "    </tr>\n",
       "    <tr>\n",
       "      <th>1</th>\n",
       "      <td>Angola</td>\n",
       "      <td>Kwanza</td>\n",
       "      <td>1971</td>\n",
       "      <td>57491.277344</td>\n",
       "      <td>314195.093750</td>\n",
       "      <td>3.742484</td>\n",
       "      <td>1.018196</td>\n",
       "    </tr>\n",
       "    <tr>\n",
       "      <th>2</th>\n",
       "      <td>Angola</td>\n",
       "      <td>Kwanza</td>\n",
       "      <td>1972</td>\n",
       "      <td>57606.261719</td>\n",
       "      <td>332435.843750</td>\n",
       "      <td>3.853271</td>\n",
       "      <td>1.020712</td>\n",
       "    </tr>\n",
       "    <tr>\n",
       "      <th>3</th>\n",
       "      <td>Angola</td>\n",
       "      <td>Kwanza</td>\n",
       "      <td>1973</td>\n",
       "      <td>62272.367188</td>\n",
       "      <td>352647.906250</td>\n",
       "      <td>3.987807</td>\n",
       "      <td>1.023234</td>\n",
       "    </tr>\n",
       "    <tr>\n",
       "      <th>4</th>\n",
       "      <td>Angola</td>\n",
       "      <td>Kwanza</td>\n",
       "      <td>1974</td>\n",
       "      <td>64202.808594</td>\n",
       "      <td>373267.718750</td>\n",
       "      <td>4.130696</td>\n",
       "      <td>1.025762</td>\n",
       "    </tr>\n",
       "    <tr>\n",
       "      <th>...</th>\n",
       "      <td>...</td>\n",
       "      <td>...</td>\n",
       "      <td>...</td>\n",
       "      <td>...</td>\n",
       "      <td>...</td>\n",
       "      <td>...</td>\n",
       "      <td>...</td>\n",
       "    </tr>\n",
       "    <tr>\n",
       "      <th>6359</th>\n",
       "      <td>Zimbabwe</td>\n",
       "      <td>US Dollar</td>\n",
       "      <td>2015</td>\n",
       "      <td>42008.199219</td>\n",
       "      <td>64916.476562</td>\n",
       "      <td>6.393752</td>\n",
       "      <td>2.584653</td>\n",
       "    </tr>\n",
       "    <tr>\n",
       "      <th>6360</th>\n",
       "      <td>Zimbabwe</td>\n",
       "      <td>US Dollar</td>\n",
       "      <td>2016</td>\n",
       "      <td>42325.726562</td>\n",
       "      <td>66257.859375</td>\n",
       "      <td>6.504374</td>\n",
       "      <td>2.616257</td>\n",
       "    </tr>\n",
       "    <tr>\n",
       "      <th>6361</th>\n",
       "      <td>Zimbabwe</td>\n",
       "      <td>US Dollar</td>\n",
       "      <td>2017</td>\n",
       "      <td>44316.742188</td>\n",
       "      <td>67627.562500</td>\n",
       "      <td>6.611773</td>\n",
       "      <td>2.648248</td>\n",
       "    </tr>\n",
       "    <tr>\n",
       "      <th>6362</th>\n",
       "      <td>Zimbabwe</td>\n",
       "      <td>US Dollar</td>\n",
       "      <td>2018</td>\n",
       "      <td>46457.097656</td>\n",
       "      <td>69059.625000</td>\n",
       "      <td>6.714952</td>\n",
       "      <td>2.680630</td>\n",
       "    </tr>\n",
       "    <tr>\n",
       "      <th>6363</th>\n",
       "      <td>Zimbabwe</td>\n",
       "      <td>US Dollar</td>\n",
       "      <td>2019</td>\n",
       "      <td>42694.070312</td>\n",
       "      <td>69946.421875</td>\n",
       "      <td>6.831017</td>\n",
       "      <td>2.713408</td>\n",
       "    </tr>\n",
       "  </tbody>\n",
       "</table>\n",
       "<p>6364 rows × 7 columns</p>\n",
       "</div>"
      ],
      "text/plain": [
       "       country currency_unit  year      Real GDP        Capital    Labour  \\\n",
       "0       Angola        Kwanza  1970  54237.054688  295517.625000  3.666207   \n",
       "1       Angola        Kwanza  1971  57491.277344  314195.093750  3.742484   \n",
       "2       Angola        Kwanza  1972  57606.261719  332435.843750  3.853271   \n",
       "3       Angola        Kwanza  1973  62272.367188  352647.906250  3.987807   \n",
       "4       Angola        Kwanza  1974  64202.808594  373267.718750  4.130696   \n",
       "...        ...           ...   ...           ...            ...       ...   \n",
       "6359  Zimbabwe     US Dollar  2015  42008.199219   64916.476562  6.393752   \n",
       "6360  Zimbabwe     US Dollar  2016  42325.726562   66257.859375  6.504374   \n",
       "6361  Zimbabwe     US Dollar  2017  44316.742188   67627.562500  6.611773   \n",
       "6362  Zimbabwe     US Dollar  2018  46457.097656   69059.625000  6.714952   \n",
       "6363  Zimbabwe     US Dollar  2019  42694.070312   69946.421875  6.831017   \n",
       "\n",
       "      Human Capital  \n",
       "0          1.015686  \n",
       "1          1.018196  \n",
       "2          1.020712  \n",
       "3          1.023234  \n",
       "4          1.025762  \n",
       "...             ...  \n",
       "6359       2.584653  \n",
       "6360       2.616257  \n",
       "6361       2.648248  \n",
       "6362       2.680630  \n",
       "6363       2.713408  \n",
       "\n",
       "[6364 rows x 7 columns]"
      ]
     },
     "execution_count": 21,
     "metadata": {},
     "output_type": "execute_result"
    }
   ],
   "source": [
    "df_combined"
   ]
  },
  {
   "cell_type": "code",
   "execution_count": 22,
   "metadata": {},
   "outputs": [],
   "source": [
    "df_cleaned = df_combined.copy()\n",
    "df_cleaned.to_pickle('../data/df_cleaned.pkl') \n"
   ]
  }
 ],
 "metadata": {
  "kernelspec": {
   "display_name": "base",
   "language": "python",
   "name": "python3"
  },
  "language_info": {
   "codemirror_mode": {
    "name": "ipython",
    "version": 3
   },
   "file_extension": ".py",
   "mimetype": "text/x-python",
   "name": "python",
   "nbconvert_exporter": "python",
   "pygments_lexer": "ipython3",
   "version": "3.12.7"
  }
 },
 "nbformat": 4,
 "nbformat_minor": 2
}
